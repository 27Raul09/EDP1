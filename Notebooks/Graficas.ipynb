{
 "cells": [
  {
   "cell_type": "code",
   "execution_count": null,
   "id": "9309e702",
   "metadata": {},
   "outputs": [],
   "source": [
    "import numpy as np\n",
    "import pylab as pl\n",
    "%matplotlib notebook\n",
    "from mpl_toolkits.mplot3d import Axes3D"
   ]
  },
  {
   "cell_type": "code",
   "execution_count": null,
   "id": "ce43115c",
   "metadata": {},
   "outputs": [],
   "source": [
    "fig = pl.figure()\n",
    "\n",
    "ax = Axes3D(fig)\n",
    "X = np.arange(-3.0, 3.0, 0.1)\n",
    "Y = np.arange(0.0, 4.0, 0.1)\n",
    "X, Y = np.meshgrid(X, Y)\n",
    "Z = (X - Y)** 2\n",
    "\n",
    "ax.plot_surface(X, Y, Z, rstride=1, cstride=1, cmap=pl.cm.hot)\n",
    "ax.contourf(X, Y, Z, zdir='z', offset=-2, cmap=pl.cm.hot)\n",
    "ax.set_zlim(0, 40)\n",
    "\n",
    "pl.show()"
   ]
  },
  {
   "cell_type": "code",
   "execution_count": null,
   "id": "8c72d63a",
   "metadata": {},
   "outputs": [],
   "source": [
    "fig = pl.figure()\n",
    "\n",
    "ax = Axes3D(fig)\n",
    "X = np.arange(-3.0, 3.0, 0.1)\n",
    "Y = np.arange(0.0, 4.0, 0.1)\n",
    "X, Y = np.meshgrid(X, Y)\n",
    "Z = np.exp(-(X - Y)**2) \n",
    "\n",
    "\n",
    "ax.plot_surface(X, Y, Z, rstride=1, cstride=1, cmap=pl.cm.hot)\n",
    "ax.contourf(X, Y, Z, zdir='z', offset=-2, cmap=pl.cm.hot)\n",
    "ax.set_zlim(0, 1.0)\n",
    "\n",
    "pl.show()"
   ]
  },
  {
   "cell_type": "code",
   "execution_count": null,
   "id": "e3ab0882",
   "metadata": {},
   "outputs": [],
   "source": [
    "fig = pl.figure()\n",
    "\n",
    "ax = Axes3D(fig)\n",
    "X = np.arange(-3.0, 3.0, 0.1)\n",
    "Y = np.arange(0.0, 4.0, 0.1)\n",
    "X, Y = np.meshgrid(X, Y)\n",
    "Z = np.exp(-(X - Y)**2) \n",
    "\n",
    "pl.plot([0, 3.0], [-3.0, 0], color='red', alpha=0.25)\n",
    "#ax.plot_surface(X, Y, Z, rstride=1, cstride=1, cmap=pl.cm.hot)\n",
    "ax.plot_surface(X, Y, Z, rstride=1, cstride=1, cmap='YlGnBu_r') # hot  plasma summer viridis coolwarm\n",
    "ax.contourf(X, Y, Z, zdir='z', offset=-2, cmap=pl.cm.hot)\n",
    "ax.set_zlim(0, 1.0)\n",
    "\n",
    "pl.show()"
   ]
  },
  {
   "cell_type": "code",
   "execution_count": null,
   "id": "8e652e45",
   "metadata": {},
   "outputs": [],
   "source": [
    "fig = pl.figure()\n",
    "\n",
    "ax = Axes3D(fig)\n",
    "X = np.arange(-3.0, 3.0, 0.1)\n",
    "Y = np.arange(0.0, 4.0, 0.1)\n",
    "X, Y = np.meshgrid(X, Y)\n",
    "Z = np.exp(X - Y) \n",
    "\n",
    "\n",
    "#ax.plot_surface(X, Y, Z, rstride=1, cstride=1, cmap=pl.cm.hot)\n",
    "ax.plot_surface(X, Y, Z, rstride=1, cstride=1, cmap='coolwarm') # hot  plasma summer viridis\n",
    "ax.contourf(X, Y, Z, zdir='z', offset=-2, cmap=pl.cm.hot)\n",
    "ax.set_zlim(0, 1.0)\n",
    "\n",
    "pl.show()"
   ]
  },
  {
   "cell_type": "code",
   "execution_count": null,
   "id": "c8260810",
   "metadata": {},
   "outputs": [],
   "source": [
    "fig = pl.figure()\n",
    "\n",
    "ax = Axes3D(fig)\n",
    "X = np.arange(-3.0, 3.0, 0.1)\n",
    "Y = np.arange(0.0, 4.0, 0.1)\n",
    "X, Y = np.meshgrid(X, Y)\n",
    "Z = 3*np.sin(X - Y) \n",
    "\n",
    "\n",
    "ax.plot_surface(X, Y, Z, rstride=1, cstride=1, cmap=pl.cm.hot)\n",
    "ax.contourf(X, Y, Z, zdir='z', offset=-2, cmap=pl.cm.hot)\n",
    "ax.set_zlim(-2.0, 2.0)\n",
    "\n",
    "pl.show()"
   ]
  },
  {
   "cell_type": "code",
   "execution_count": null,
   "id": "22fba00a",
   "metadata": {},
   "outputs": [],
   "source": [
    "fig = pl.figure()\n",
    "\n",
    "ax = Axes3D(fig)\n",
    "X = np.arange(-6.0, 6.0, 0.1)\n",
    "Y = np.arange(0.0, 8.0, 0.1)\n",
    "X, Y = np.meshgrid(X, Y)\n",
    "Z = 3*np.cos(X - Y) \n",
    "\n",
    "\n",
    "ax.plot_surface(X, Y, Z, rstride=1, cstride=1, cmap=pl.cm.hot)\n",
    "ax.contourf(X, Y, Z, zdir='z', offset=-2, cmap=pl.cm.hot)\n",
    "ax.set_zlim(-2.0, 2.0)\n",
    "\n",
    "pl.show()"
   ]
  },
  {
   "cell_type": "code",
   "execution_count": null,
   "id": "c5e71c34",
   "metadata": {},
   "outputs": [],
   "source": []
  }
 ],
 "metadata": {
  "kernelspec": {
   "display_name": "Python 3 (ipykernel)",
   "language": "python",
   "name": "python3"
  },
  "language_info": {
   "codemirror_mode": {
    "name": "ipython",
    "version": 3
   },
   "file_extension": ".py",
   "mimetype": "text/x-python",
   "name": "python",
   "nbconvert_exporter": "python",
   "pygments_lexer": "ipython3",
   "version": "3.7.3"
  }
 },
 "nbformat": 4,
 "nbformat_minor": 5
}
